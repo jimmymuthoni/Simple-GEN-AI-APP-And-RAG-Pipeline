{
 "cells": [
  {
   "cell_type": "code",
   "execution_count": 2,
   "id": "776497fe",
   "metadata": {},
   "outputs": [],
   "source": [
    "import os\n",
    "from dotenv import load_dotenv\n",
    "load_dotenv()\n",
    "\n",
    "os.environ['OPENAI_API_KEY'] = os.getenv('OPENAI_API_KEY')\n",
    "\n",
    "#Langsmith Tracking\n",
    "os.environ['LANGCHAIN_API_KEY'] = os.getenv('LANGCHAIN_API_KEY')\n",
    "os.environ['LANGCHAIN_TRACING_V2'] = \"true\"\n",
    "os.environ['LANGCHAIN_PROJECT '] = os.getenv('LANGCHAIN_PROJECT')"
   ]
  },
  {
   "cell_type": "code",
   "execution_count": null,
   "id": "f3d087f1",
   "metadata": {},
   "outputs": [
    {
     "name": "stdout",
     "output_type": "stream",
     "text": [
      "client=<openai.resources.chat.completions.completions.Completions object at 0x00000202C2258DC0> async_client=<openai.resources.chat.completions.completions.AsyncCompletions object at 0x00000202C225BB20> root_client=<openai.OpenAI object at 0x00000202BF1A4190> root_async_client=<openai.AsyncOpenAI object at 0x00000202C2258E80> model_name='gpt-4o' model_kwargs={} openai_api_key=SecretStr('**********')\n"
     ]
    }
   ],
   "source": [
    "from langchain_openai import ChatOpenAI\n",
    "llm = ChatOpenAI(model = \"gpt-4o\")\n",
    "print(llm)"
   ]
  },
  {
   "cell_type": "code",
   "execution_count": 4,
   "id": "f66356f6",
   "metadata": {},
   "outputs": [
    {
     "name": "stdout",
     "output_type": "stream",
     "text": [
      "content=\"Generative AI, often abbreviated as Gen AI, refers to a category of artificial intelligence systems designed to generate new content. This can include text, images, music, and other types of media. These systems typically rely on deep learning models, such as neural networks, that are trained on large datasets to understand patterns and structures within the data. Once trained, Generative AI can produce novel content that mimics or reflects the characteristics found in the input data.\\n\\nKey applications of Generative AI include:\\n\\n1. **Text Generation**: Systems like OpenAI's GPT-3 and GPT-4 can write essays, answer questions, and even create code based on user prompts.\\n\\n2. **Image Generation**: Models like DALL-E and Stable Diffusion can create visual art from textual descriptions.\\n\\n3. **Music Composition**: AI tools can compose music in various styles and moods.\\n\\n4. **Chatbots and Virtual Assistants**: These use generative models to hold conversations with users in a more human-like manner.\\n\\n5. **Content Creation for Games and Simulations**: AI can generate storylines, characters, and even entire worlds.\\n\\nThe impact of Generative AI is broad, influencing sectors such as entertainment, marketing, and design, while also raising discussions around ethics, copyright, and the authenticity of AI-generated content.\" additional_kwargs={'refusal': None} response_metadata={'token_usage': {'completion_tokens': 266, 'prompt_tokens': 12, 'total_tokens': 278, 'completion_tokens_details': {'accepted_prediction_tokens': 0, 'audio_tokens': 0, 'reasoning_tokens': 0, 'rejected_prediction_tokens': 0}, 'prompt_tokens_details': {'audio_tokens': 0, 'cached_tokens': 0}}, 'model_name': 'gpt-4o-2024-08-06', 'system_fingerprint': 'fp_d8864f8b6b', 'id': 'chatcmpl-BYARNQLCtLRwTmdl6AGF0tQorFIb4', 'finish_reason': 'stop', 'logprobs': None} id='run-2ea66419-c5c4-40c5-8fec-885884d97a2b-0' usage_metadata={'input_tokens': 12, 'output_tokens': 266, 'total_tokens': 278, 'input_token_details': {'audio': 0, 'cache_read': 0}, 'output_token_details': {'audio': 0, 'reasoning': 0}}\n"
     ]
    }
   ],
   "source": [
    "# Input and get response from LLM\n",
    "result = llm.invoke(\"What is Gen AI?\")\n",
    "print(result)"
   ]
  },
  {
   "cell_type": "code",
   "execution_count": null,
   "id": "589a9405",
   "metadata": {},
   "outputs": [
    {
     "name": "stdout",
     "output_type": "stream",
     "text": [
      "content=\"Langsmith is a tool developed by the creators of LangChain, a popular framework for developing applications powered by large language models (LLMs). Langsmith is designed to enhance the development, debugging, and monitoring of these LLM applications. It provides a range of features, including the ability to track and evaluate the performance of multiple applications by capturing relevant data during both development and production phases.\\n\\nLangsmith's toolkit includes advanced logging for input-output traces, a user-friendly dashboard for visualization, and evaluation metrics to quantify the performance of language models. This assists developers in gaining deeper insights into how their LLMs are behaving, identifying areas for improvement, and ensuring the robustness of their applications over time.\" additional_kwargs={'refusal': None} response_metadata={'token_usage': {'completion_tokens': 138, 'prompt_tokens': 33, 'total_tokens': 171, 'completion_tokens_details': {'accepted_prediction_tokens': 0, 'audio_tokens': 0, 'reasoning_tokens': 0, 'rejected_prediction_tokens': 0}, 'prompt_tokens_details': {'audio_tokens': 0, 'cached_tokens': 0}}, 'model_name': 'gpt-4o-2024-08-06', 'system_fingerprint': 'fp_76544d79cb', 'id': 'chatcmpl-BYAeInk5riYT6bAOUyq6Ed9mGzAHn', 'finish_reason': 'stop', 'logprobs': None} id='run-01b7755a-de31-4424-ad6d-9e7826d23d45-0' usage_metadata={'input_tokens': 33, 'output_tokens': 138, 'total_tokens': 171, 'input_token_details': {'audio': 0, 'cache_read': 0}, 'output_token_details': {'audio': 0, 'reasoning': 0}}\n"
     ]
    }
   ],
   "source": [
    "# chatPromt Template\n",
    "from langchain_core.prompts import ChatPromptTemplate\n",
    "prompt = ChatPromptTemplate.from_messages(\n",
    "    [\n",
    "        (\"system\", \"Younare an expert AI engineer. Provide me answers based on the questions.\"),\n",
    "        (\"user\", \"{input}\")\n",
    "    ]\n",
    ")\n",
    "\n",
    "chain = prompt | llm\n",
    "response = chain.invoke({\"input\": \"Tell me about Langsmith.\"})\n",
    "print(response)"
   ]
  },
  {
   "cell_type": "code",
   "execution_count": 7,
   "id": "08db2218",
   "metadata": {},
   "outputs": [
    {
     "data": {
      "text/plain": [
       "langchain_core.messages.ai.AIMessage"
      ]
     },
     "execution_count": 7,
     "metadata": {},
     "output_type": "execute_result"
    }
   ],
   "source": [
    "type(response)"
   ]
  },
  {
   "cell_type": "code",
   "execution_count": 8,
   "id": "7d00df05",
   "metadata": {},
   "outputs": [
    {
     "name": "stdout",
     "output_type": "stream",
     "text": [
      "Langsmith is a comprehensive tool designed to enhance the development, testing, and deployment of AI applications built with language models. It offers a suite of features to streamline the process of building with AI, including capabilities for tracing, debugging, evaluating, and monitoring language models and applications.\n",
      "\n",
      "Key features of Langsmith include:\n",
      "\n",
      "1. **Logging and Visualization**: It allows developers to trace and analyze interactions with language models, making it easier to understand how inputs are processed and where improvements can be made.\n",
      "\n",
      "2. **Evaluation Tools**: Langsmith provides mechanisms for evaluating the performance of language models, allowing developers to run tests and obtain metrics that can guide optimization efforts.\n",
      "\n",
      "3. **Monitoring**: The platform helps in continuously monitoring language applications post-deployment, ensuring they perform reliably and identifying any potential issues early.\n",
      "\n",
      "4. **Integration**: Langsmith is designed to integrate seamlessly with existing workflows and popular model providers, making it a versatile addition to any language model-based project.\n",
      "\n",
      "Overall, Langsmith aims to improve the efficiency and effectiveness of developing AI applications by providing essential tools for debugging, evaluation, and maintenance.\n"
     ]
    }
   ],
   "source": [
    "# Stringouput parser\n",
    "\n",
    "from langchain_core.output_parsers import StrOutputParser\n",
    "output_parser = StrOutputParser()\n",
    "chain = prompt | llm | output_parser\n",
    "\n",
    "response = chain.invoke({\"input\": \"Tell me about Langsmith.\"})\n",
    "print(response)"
   ]
  },
  {
   "cell_type": "code",
   "execution_count": null,
   "id": "0145ec61",
   "metadata": {},
   "outputs": [],
   "source": []
  }
 ],
 "metadata": {
  "kernelspec": {
   "display_name": "Python 3",
   "language": "python",
   "name": "python3"
  },
  "language_info": {
   "codemirror_mode": {
    "name": "ipython",
    "version": 3
   },
   "file_extension": ".py",
   "mimetype": "text/x-python",
   "name": "python",
   "nbconvert_exporter": "python",
   "pygments_lexer": "ipython3",
   "version": "3.10.16"
  }
 },
 "nbformat": 4,
 "nbformat_minor": 5
}
